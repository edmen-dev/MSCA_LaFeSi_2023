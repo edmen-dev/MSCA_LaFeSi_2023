{
 "cells": [
  {
   "cell_type": "code",
   "execution_count": 1,
   "metadata": {},
   "outputs": [],
   "source": [
    "import numpy as np\n",
    "import h5py\n",
    "from os import getcwd\n",
    "from subprocess import run\n",
    "import matplotlib.pyplot as plt"
   ]
  },
  {
   "attachments": {},
   "cell_type": "markdown",
   "metadata": {},
   "source": [
    "# copying files"
   ]
  },
  {
   "cell_type": "code",
   "execution_count": 2,
   "metadata": {},
   "outputs": [],
   "source": [
    "list_of_alat = [21.2735, 21.4906, 21.7077, 21.9247, 22.1418]\n",
    "# list_of_alat = [21.7077]\n",
    "list_of_apos = ['aneg2', 'aneg1', 'apos0', 'apos1', 'apos2']\n",
    "# list_of_apos = ['apos0']\n",
    "list_of_betahs = [0.01, 0.50, 1.00, 1.50, 2.00, 3.00, 4.00, 5.00, 7.00, 10.00]\n",
    "# list_of_betahs = [0.01, 0.50]\n",
    "\n",
    "folder_origin = '/work/za317506/pymarmot/LaFeSi/Si0_12/experim/DLM'\n",
    "folder_final = './calculation'\n",
    "list_to_copy_hutsepot = ['*pot', 'input', 'cell.xsf', 'charge.dat', 'convergence.dat', 'etot.dat', 'file.str', 'out']\n",
    "list_to_copy_samp = ['01_iterate_Ef_and_betahs.py', 'energygrid.dat', 'lattice.dat', 'out', 'results*', 'structure.cell', 'thisdir.txt', 'mpi*']"
   ]
  },
  {
   "cell_type": "code",
   "execution_count": null,
   "metadata": {},
   "outputs": [],
   "source": [
    "# cleaning\n",
    "run('rm -r ' + folder_final, shell=True)\n",
    "\n",
    "# preparing folder\n",
    "run('mkdir ' + folder_final, shell=True)\n",
    "\n",
    "# loop over lattice constants\n",
    "for ilat, alat in enumerate(list_of_alat):\n",
    "    print('Doing: ', alat)\n",
    "    current_folder_alat = folder_final + '/a' + str(alat)\n",
    "    run('mkdir ' + current_folder_alat, shell=True)\n",
    "    \n",
    "    run('mkdir ' + current_folder_alat + '/hutsepot', shell=True)\n",
    "    apos = list_of_apos[ilat]\n",
    "    for item in list_to_copy_hutsepot:\n",
    "        run('cp ' + folder_origin + '/' + apos + '/hutsepot/' + item + ' ' + current_folder_alat + '/hutsepot', shell=True)\n",
    "\n",
    "    for im, betahs in enumerate(list_of_betahs):\n",
    "        value_of_m = -1/betahs+1/np.tanh(betahs)\n",
    "        run('mkdir ' + current_folder_alat + '/m'+'{0:.4f}'.format(value_of_m), shell=True)\n",
    "        for item in list_to_copy_samp:\n",
    "            run('cp ' + folder_origin + '/' + apos + '/samp'+str(im+1) + '/' + item + ' ' + current_folder_alat + '/m'+'{0:.4f}'.format(value_of_m), shell=True)"
   ]
  },
  {
   "attachments": {},
   "cell_type": "markdown",
   "metadata": {},
   "source": [
    "# importing hdf5_and_metadata_class"
   ]
  },
  {
   "cell_type": "code",
   "execution_count": 3,
   "metadata": {},
   "outputs": [],
   "source": [
    "this_folder = getcwd()\n",
    "run('export PYTHONPATH=' + this_folder + ':$PYTHONPATH', shell=True)\n",
    "from hdf5_and_metadata_class.main import hdf5_and_metadata"
   ]
  },
  {
   "attachments": {},
   "cell_type": "markdown",
   "metadata": {},
   "source": [
    "# creation of hdf5 file and metadata"
   ]
  },
  {
   "cell_type": "code",
   "execution_count": 4,
   "metadata": {},
   "outputs": [
    {
     "name": "stdout",
     "output_type": "stream",
     "text": [
      "\u001b[0;31mType:\u001b[0m        hdf5_and_metadata\n",
      "\u001b[0;31mString form:\u001b[0m <hdf5_and_metadata_class.main.hdf5_and_metadata object at 0x7fd8b80d8eb0>\n",
      "\u001b[0;31mFile:\u001b[0m        ~/workbench/devel/gitclones/marmot_files_hdf5/hdf5_and_metadata_class/main.py\n",
      "\u001b[0;31mDocstring:\u001b[0m  \n",
      "The objective of this class is to create an hdf5 file that\n",
      "    - centralizes the creation of metadata\n",
      "    - stores the most final output data\n",
      "\n",
      "Author: Eduardo Mendive Tapia\n",
      "email: e.mendive.tapia@ub.edu\n",
      "MSCA-IF: project: 101025767\n",
      "date: March 2023\n",
      "\n",
      "Acknowledgements to Anoop Chandran for advice and help\n"
     ]
    }
   ],
   "source": [
    "my_class = hdf5_and_metadata()\n",
    "my_class?"
   ]
  },
  {
   "cell_type": "code",
   "execution_count": 5,
   "metadata": {},
   "outputs": [
    {
     "name": "stdout",
     "output_type": "stream",
     "text": [
      "./calculation/a21.2735\n",
      "./calculation/a21.4906\n",
      "./calculation/a21.7077\n",
      "./calculation/a21.9247\n",
      "./calculation/a22.1418\n"
     ]
    }
   ],
   "source": [
    "list_of_calculations = []\n",
    "for ilat, alat in enumerate(list_of_alat):\n",
    "    my_class.metadata_and_dataset_marmot.weiss_field_vs_m_buffer = []\n",
    "    my_class.metadata_and_dataset_marmot.dos_vs_m_buffer = []\n",
    "    if ilat == 0:\n",
    "        method_File = \"w\"\n",
    "    else:\n",
    "        method_File = \"a\"\n",
    "\n",
    "    name_of_calculation = './calculation/a' + str(alat)\n",
    "    list_of_calculations.append(name_of_calculation)\n",
    "    my_class.metadata_and_dataset_marmot.set_name_of_calculation(name_of_calculation)\n",
    "    print(my_class.metadata_and_dataset_marmot.name_of_calculation)\n",
    "    group_0        = my_class.metadata_and_dataset_marmot.set_group_0(alat=alat, method_File=method_File)\n",
    "    group_hutsepot = my_class.metadata_and_dataset_marmot.set_group_hutsepot()\n",
    "    # group_ini      = my_class.metadata_and_dataset_marmot.set_group_ini()\n",
    "    list_of_group_samp = []\n",
    "    list_of_dataset_samp = []\n",
    "    for betahs in list_of_betahs:\n",
    "        value_of_m = my_class.metadata_and_dataset_marmot.parser_marmot.get_m_from_betahs( betahs )\n",
    "        group_samp, dataset_samp = my_class.metadata_and_dataset_marmot.set_group_samp(value_of_m=value_of_m)\n",
    "        list_of_group_samp.append(group_samp)\n",
    "        list_of_dataset_samp.append(dataset_samp)\n",
    "\n",
    "    my_class.metadata_and_dataset_marmot.set_dataset_vs_m(name_of_calculation)"
   ]
  },
  {
   "cell_type": "code",
   "execution_count": 6,
   "metadata": {},
   "outputs": [],
   "source": [
    "list_of_subfolders = my_class.metadata_and_dataset_marmot.list_of_subfolders\n",
    "my_class.h5py_to_json_marmot('marmot.hdf5', 'marmot.json', list_of_calculations, list_of_subfolders)"
   ]
  },
  {
   "cell_type": "code",
   "execution_count": 7,
   "metadata": {},
   "outputs": [
    {
     "data": {
      "text/plain": [
       "['/hutsepot',\n",
       " '/m0.0033',\n",
       " '/m0.1640',\n",
       " '/m0.3130',\n",
       " '/m0.4381',\n",
       " '/m0.5373',\n",
       " '/m0.6716',\n",
       " '/m0.7507',\n",
       " '/m0.8001',\n",
       " '/m0.8571',\n",
       " '/m0.9000',\n",
       " '/hutsepot',\n",
       " '/m0.0033',\n",
       " '/m0.1640',\n",
       " '/m0.3130',\n",
       " '/m0.4381',\n",
       " '/m0.5373',\n",
       " '/m0.6716',\n",
       " '/m0.7507',\n",
       " '/m0.8001',\n",
       " '/m0.8571',\n",
       " '/m0.9000',\n",
       " '/hutsepot',\n",
       " '/m0.0033',\n",
       " '/m0.1640',\n",
       " '/m0.3130',\n",
       " '/m0.4381',\n",
       " '/m0.5373',\n",
       " '/m0.6716',\n",
       " '/m0.7507',\n",
       " '/m0.8001',\n",
       " '/m0.8571',\n",
       " '/m0.9000',\n",
       " '/hutsepot',\n",
       " '/m0.0033',\n",
       " '/m0.1640',\n",
       " '/m0.3130',\n",
       " '/m0.4381',\n",
       " '/m0.5373',\n",
       " '/m0.6716',\n",
       " '/m0.7507',\n",
       " '/m0.8001',\n",
       " '/m0.8571',\n",
       " '/m0.9000',\n",
       " '/hutsepot',\n",
       " '/m0.0033',\n",
       " '/m0.1640',\n",
       " '/m0.3130',\n",
       " '/m0.4381',\n",
       " '/m0.5373',\n",
       " '/m0.6716',\n",
       " '/m0.7507',\n",
       " '/m0.8001',\n",
       " '/m0.8571',\n",
       " '/m0.9000']"
      ]
     },
     "execution_count": 7,
     "metadata": {},
     "output_type": "execute_result"
    }
   ],
   "source": [
    "my_class.metadata_and_dataset_marmot.list_of_subfolders"
   ]
  },
  {
   "cell_type": "code",
   "execution_count": 8,
   "metadata": {},
   "outputs": [],
   "source": [
    "f = h5py.File(\"marmot.hdf5\", \"r\")\n",
    "my_class.show_obj(f)"
   ]
  },
  {
   "cell_type": "code",
   "execution_count": 9,
   "metadata": {},
   "outputs": [
    {
     "data": {
      "text/plain": [
       "<KeysViewHDF5 ['dataset of dos vs order parameter in hdf5 file', 'dataset of weiss fields vs order parameter in hdf5 file', 'description', 'name of calculation', 'value of the lattice constant (Bohr units)']>"
      ]
     },
     "execution_count": 9,
     "metadata": {},
     "output_type": "execute_result"
    }
   ],
   "source": [
    "f['/calculation/a21.4906'].attrs.keys()"
   ]
  }
 ],
 "metadata": {
  "kernelspec": {
   "display_name": "work_pyiron",
   "language": "python",
   "name": "python3"
  },
  "language_info": {
   "codemirror_mode": {
    "name": "ipython",
    "version": 3
   },
   "file_extension": ".py",
   "mimetype": "text/x-python",
   "name": "python",
   "nbconvert_exporter": "python",
   "pygments_lexer": "ipython3",
   "version": "3.9.13"
  },
  "orig_nbformat": 4
 },
 "nbformat": 4,
 "nbformat_minor": 2
}
